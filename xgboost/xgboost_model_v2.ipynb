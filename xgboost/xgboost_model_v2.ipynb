{
 "cells": [
  {
   "cell_type": "code",
   "execution_count": 43,
   "metadata": {},
   "outputs": [],
   "source": [
    "\"\"\"\n",
    "This file builds a model with limited features to restrict the amount of information the web app will need\n",
    "to make a prediction\n",
    "\"\"\"\n",
    "import pandas as pd \n",
    "import numpy as np\n",
    "import matplotlib.pyplot as plt\n",
    "import pickle\n",
    "\n",
    "from sklearn.preprocessing import OneHotEncoder, StandardScaler\n",
    "from sklearn.pipeline import Pipeline\n",
    "from sklearn.compose import ColumnTransformer\n",
    "from sklearn.model_selection import train_test_split\n",
    "from sklearn.ensemble import GradientBoostingRegressor\n",
    "from sklearn.model_selection import GridSearchCV\n",
    "from sklearn.metrics import r2_score, mean_squared_error, mean_absolute_error\n",
    "\n",
    "web_app_features = [\"age\",\"race\",\"ethnicity\",\"sex\",\"other_language_spoken_at_home\",\"born_in_usa\",\n",
    "                \"marriage_status\",\"military_status\",\"total_income\", \"employment_status\",\n",
    "                \"insurance_status\",\"highest_education\",\"number_of_visits\",\"number_of_diff\",\"diag_amt\",\"total_expenditure\"]"
   ]
  },
  {
   "cell_type": "code",
   "execution_count": 30,
   "metadata": {},
   "outputs": [],
   "source": [
    "def get_cat_num_features(df): \n",
    "    num_unique = df.nunique()\n",
    "    categorical_features = num_unique[num_unique <= 10].index.tolist()\n",
    "    categorical_features.remove(\"number_of_diff\")\n",
    "    numerical_features = [f for f in df.columns if f not in categorical_features]\n",
    "    return categorical_features, numerical_features\n",
    "\n",
    "def normalize_target(df, target_column):\n",
    "    # medical expenditure is strongly positively skewed so best practice is to normalized it for our model\n",
    "    vals = df[target_column].values \n",
    "    return np.array([0 if v == 0 else np.log(v) for v in vals])\n",
    "\n",
    "def readin_and_split(path, target_column, features):\n",
    "    df = pd.read_csv(path) \n",
    "    df = df[features]\n",
    "    # remove employment status == 2\n",
    "    df = df[df.employment_status != 2]\n",
    "    df = df[df['age'] >= 0] \n",
    "    df = df[df['marriage_status'] >= 0]\n",
    "    df = df[df['total_income'] >= 0]\n",
    "    df = df[(df[[\"other_language_spoken_at_home\",\"born_in_usa\",\n",
    "                \"marriage_status\",\"military_status\",\"employment_status\",\n",
    "                \"insurance_status\",\"highest_education\"]] >= -1).all(1)]\n",
    "    df[target_column] = normalize_target(df, target_column)\n",
    "    X = df.drop(target_column, axis=1)\n",
    "    y = df[target_column]\n",
    "    return train_test_split(X, y, test_size=0.2, random_state=0)\n",
    "\n",
    "\n",
    "def one_hot(df):\n",
    "    cat_cols = get_cat_num_features(df)[0]\n",
    "    for col in cat_cols:\n",
    "        df_one_hot = pd.get_dummies(df[col], prefix = col)\n",
    "        df = df.drop(columns = [col])\n",
    "        df = pd.concat([df, df_one_hot], axis = 1)\n",
    "    return df"
   ]
  },
  {
   "cell_type": "code",
   "execution_count": 31,
   "metadata": {},
   "outputs": [],
   "source": [
    " X_train, X_test, y_train, y_test = readin_and_split(\"../data/meps_data_2019_new_feats.csv\", \"total_expenditure\",  web_app_features)"
   ]
  },
  {
   "cell_type": "code",
   "execution_count": 32,
   "metadata": {},
   "outputs": [],
   "source": [
    "X_train = one_hot(X_train)\n",
    "X_test = one_hot(X_test)"
   ]
  },
  {
   "cell_type": "code",
   "execution_count": 33,
   "metadata": {},
   "outputs": [
    {
     "data": {
      "text/html": [
       "<div>\n",
       "<style scoped>\n",
       "    .dataframe tbody tr th:only-of-type {\n",
       "        vertical-align: middle;\n",
       "    }\n",
       "\n",
       "    .dataframe tbody tr th {\n",
       "        vertical-align: top;\n",
       "    }\n",
       "\n",
       "    .dataframe thead th {\n",
       "        text-align: right;\n",
       "    }\n",
       "</style>\n",
       "<table border=\"1\" class=\"dataframe\">\n",
       "  <thead>\n",
       "    <tr style=\"text-align: right;\">\n",
       "      <th></th>\n",
       "      <th>age</th>\n",
       "      <th>total_income</th>\n",
       "      <th>number_of_visits</th>\n",
       "      <th>number_of_diff</th>\n",
       "      <th>diag_amt</th>\n",
       "      <th>race_1.0</th>\n",
       "      <th>race_2.0</th>\n",
       "      <th>race_3.0</th>\n",
       "      <th>race_4.0</th>\n",
       "      <th>race_5.0</th>\n",
       "      <th>...</th>\n",
       "      <th>insurance_status_7.0</th>\n",
       "      <th>insurance_status_8.0</th>\n",
       "      <th>highest_education_1.0</th>\n",
       "      <th>highest_education_2.0</th>\n",
       "      <th>highest_education_3.0</th>\n",
       "      <th>highest_education_4.0</th>\n",
       "      <th>highest_education_5.0</th>\n",
       "      <th>highest_education_6.0</th>\n",
       "      <th>highest_education_7.0</th>\n",
       "      <th>highest_education_8.0</th>\n",
       "    </tr>\n",
       "  </thead>\n",
       "  <tbody>\n",
       "    <tr>\n",
       "      <th>4063</th>\n",
       "      <td>58.0</td>\n",
       "      <td>27562.0</td>\n",
       "      <td>17.0</td>\n",
       "      <td>0.0</td>\n",
       "      <td>2.0</td>\n",
       "      <td>0</td>\n",
       "      <td>1</td>\n",
       "      <td>0</td>\n",
       "      <td>0</td>\n",
       "      <td>0</td>\n",
       "      <td>...</td>\n",
       "      <td>0</td>\n",
       "      <td>0</td>\n",
       "      <td>0</td>\n",
       "      <td>0</td>\n",
       "      <td>0</td>\n",
       "      <td>0</td>\n",
       "      <td>0</td>\n",
       "      <td>0</td>\n",
       "      <td>1</td>\n",
       "      <td>0</td>\n",
       "    </tr>\n",
       "    <tr>\n",
       "      <th>14188</th>\n",
       "      <td>7.0</td>\n",
       "      <td>0.0</td>\n",
       "      <td>22.0</td>\n",
       "      <td>0.0</td>\n",
       "      <td>0.0</td>\n",
       "      <td>1</td>\n",
       "      <td>0</td>\n",
       "      <td>0</td>\n",
       "      <td>0</td>\n",
       "      <td>0</td>\n",
       "      <td>...</td>\n",
       "      <td>0</td>\n",
       "      <td>0</td>\n",
       "      <td>0</td>\n",
       "      <td>0</td>\n",
       "      <td>0</td>\n",
       "      <td>0</td>\n",
       "      <td>0</td>\n",
       "      <td>0</td>\n",
       "      <td>0</td>\n",
       "      <td>1</td>\n",
       "    </tr>\n",
       "    <tr>\n",
       "      <th>7198</th>\n",
       "      <td>13.0</td>\n",
       "      <td>0.0</td>\n",
       "      <td>20.0</td>\n",
       "      <td>0.0</td>\n",
       "      <td>0.0</td>\n",
       "      <td>1</td>\n",
       "      <td>0</td>\n",
       "      <td>0</td>\n",
       "      <td>0</td>\n",
       "      <td>0</td>\n",
       "      <td>...</td>\n",
       "      <td>0</td>\n",
       "      <td>0</td>\n",
       "      <td>0</td>\n",
       "      <td>0</td>\n",
       "      <td>0</td>\n",
       "      <td>0</td>\n",
       "      <td>0</td>\n",
       "      <td>0</td>\n",
       "      <td>0</td>\n",
       "      <td>1</td>\n",
       "    </tr>\n",
       "    <tr>\n",
       "      <th>7648</th>\n",
       "      <td>70.0</td>\n",
       "      <td>14400.0</td>\n",
       "      <td>6.0</td>\n",
       "      <td>0.0</td>\n",
       "      <td>3.0</td>\n",
       "      <td>0</td>\n",
       "      <td>0</td>\n",
       "      <td>1</td>\n",
       "      <td>0</td>\n",
       "      <td>0</td>\n",
       "      <td>...</td>\n",
       "      <td>0</td>\n",
       "      <td>0</td>\n",
       "      <td>0</td>\n",
       "      <td>0</td>\n",
       "      <td>1</td>\n",
       "      <td>0</td>\n",
       "      <td>0</td>\n",
       "      <td>0</td>\n",
       "      <td>0</td>\n",
       "      <td>0</td>\n",
       "    </tr>\n",
       "    <tr>\n",
       "      <th>26881</th>\n",
       "      <td>65.0</td>\n",
       "      <td>71346.0</td>\n",
       "      <td>12.0</td>\n",
       "      <td>0.0</td>\n",
       "      <td>3.0</td>\n",
       "      <td>0</td>\n",
       "      <td>1</td>\n",
       "      <td>0</td>\n",
       "      <td>0</td>\n",
       "      <td>0</td>\n",
       "      <td>...</td>\n",
       "      <td>0</td>\n",
       "      <td>0</td>\n",
       "      <td>0</td>\n",
       "      <td>0</td>\n",
       "      <td>0</td>\n",
       "      <td>1</td>\n",
       "      <td>0</td>\n",
       "      <td>0</td>\n",
       "      <td>0</td>\n",
       "      <td>0</td>\n",
       "    </tr>\n",
       "  </tbody>\n",
       "</table>\n",
       "<p>5 rows × 51 columns</p>\n",
       "</div>"
      ],
      "text/plain": [
       "        age  total_income  number_of_visits  number_of_diff  diag_amt  \\\n",
       "4063   58.0       27562.0              17.0             0.0       2.0   \n",
       "14188   7.0           0.0              22.0             0.0       0.0   \n",
       "7198   13.0           0.0              20.0             0.0       0.0   \n",
       "7648   70.0       14400.0               6.0             0.0       3.0   \n",
       "26881  65.0       71346.0              12.0             0.0       3.0   \n",
       "\n",
       "       race_1.0  race_2.0  race_3.0  race_4.0  race_5.0  ...  \\\n",
       "4063          0         1         0         0         0  ...   \n",
       "14188         1         0         0         0         0  ...   \n",
       "7198          1         0         0         0         0  ...   \n",
       "7648          0         0         1         0         0  ...   \n",
       "26881         0         1         0         0         0  ...   \n",
       "\n",
       "       insurance_status_7.0  insurance_status_8.0  highest_education_1.0  \\\n",
       "4063                      0                     0                      0   \n",
       "14188                     0                     0                      0   \n",
       "7198                      0                     0                      0   \n",
       "7648                      0                     0                      0   \n",
       "26881                     0                     0                      0   \n",
       "\n",
       "       highest_education_2.0  highest_education_3.0  highest_education_4.0  \\\n",
       "4063                       0                      0                      0   \n",
       "14188                      0                      0                      0   \n",
       "7198                       0                      0                      0   \n",
       "7648                       0                      1                      0   \n",
       "26881                      0                      0                      1   \n",
       "\n",
       "       highest_education_5.0  highest_education_6.0  highest_education_7.0  \\\n",
       "4063                       0                      0                      1   \n",
       "14188                      0                      0                      0   \n",
       "7198                       0                      0                      0   \n",
       "7648                       0                      0                      0   \n",
       "26881                      0                      0                      0   \n",
       "\n",
       "       highest_education_8.0  \n",
       "4063                       0  \n",
       "14188                      1  \n",
       "7198                       1  \n",
       "7648                       0  \n",
       "26881                      0  \n",
       "\n",
       "[5 rows x 51 columns]"
      ]
     },
     "execution_count": 33,
     "metadata": {},
     "output_type": "execute_result"
    }
   ],
   "source": [
    "X_train.head()"
   ]
  },
  {
   "cell_type": "code",
   "execution_count": 35,
   "metadata": {},
   "outputs": [],
   "source": [
    "parameters = {\n",
    "    \"n_estimators\": list(range(61, 81)),\n",
    "    \"max_depth\": list(range(2, 8)),\n",
    "    \"min_samples_split\": list(range(2, 8)),\n",
    "    \"min_samples_leaf\": list(range(2, 8)),\n",
    "    \"random_state\": [1]\n",
    "}"
   ]
  },
  {
   "cell_type": "code",
   "execution_count": 36,
   "metadata": {},
   "outputs": [],
   "source": [
    "xgb = GradientBoostingRegressor()\n",
    "reg = GridSearchCV(xgb, parameters, scoring='neg_mean_absolute_error', n_jobs = 3, verbose=2, cv=3)"
   ]
  },
  {
   "cell_type": "code",
   "execution_count": 37,
   "metadata": {
    "scrolled": true
   },
   "outputs": [
    {
     "name": "stdout",
     "output_type": "stream",
     "text": [
      "Fitting 3 folds for each of 4320 candidates, totalling 12960 fits\n"
     ]
    },
    {
     "name": "stderr",
     "output_type": "stream",
     "text": [
      "[Parallel(n_jobs=3)]: Using backend LokyBackend with 3 concurrent workers.\n",
      "[Parallel(n_jobs=3)]: Done  35 tasks      | elapsed:   16.1s\n",
      "[Parallel(n_jobs=3)]: Done 156 tasks      | elapsed:  1.0min\n",
      "[Parallel(n_jobs=3)]: Done 359 tasks      | elapsed:  2.3min\n",
      "[Parallel(n_jobs=3)]: Done 642 tasks      | elapsed:  4.1min\n",
      "[Parallel(n_jobs=3)]: Done 1007 tasks      | elapsed:  6.5min\n",
      "[Parallel(n_jobs=3)]: Done 1452 tasks      | elapsed:  9.3min\n",
      "[Parallel(n_jobs=3)]: Done 1979 tasks      | elapsed: 12.7min\n",
      "[Parallel(n_jobs=3)]: Done 2586 tasks      | elapsed: 17.8min\n",
      "[Parallel(n_jobs=3)]: Done 3275 tasks      | elapsed: 23.9min\n",
      "[Parallel(n_jobs=3)]: Done 4044 tasks      | elapsed: 30.7min\n",
      "[Parallel(n_jobs=3)]: Done 4895 tasks      | elapsed: 39.9min\n",
      "[Parallel(n_jobs=3)]: Done 5826 tasks      | elapsed: 51.0min\n",
      "[Parallel(n_jobs=3)]: Done 6839 tasks      | elapsed: 64.3min\n",
      "[Parallel(n_jobs=3)]: Done 7932 tasks      | elapsed: 80.5min\n",
      "[Parallel(n_jobs=3)]: Done 9107 tasks      | elapsed: 108.4min\n",
      "[Parallel(n_jobs=3)]: Done 10362 tasks      | elapsed: 130.5min\n",
      "[Parallel(n_jobs=3)]: Done 11699 tasks      | elapsed: 159.5min\n",
      "[Parallel(n_jobs=3)]: Done 12960 out of 12960 | elapsed: 186.1min finished\n"
     ]
    },
    {
     "data": {
      "text/plain": [
       "GridSearchCV(cv=3, estimator=GradientBoostingRegressor(), n_jobs=3,\n",
       "             param_grid={'max_depth': [2, 3, 4, 5, 6, 7],\n",
       "                         'min_samples_leaf': [2, 3, 4, 5, 6, 7],\n",
       "                         'min_samples_split': [2, 3, 4, 5, 6, 7],\n",
       "                         'n_estimators': [61, 62, 63, 64, 65, 66, 67, 68, 69,\n",
       "                                          70, 71, 72, 73, 74, 75, 76, 77, 78,\n",
       "                                          79, 80],\n",
       "                         'random_state': [1]},\n",
       "             scoring='neg_mean_absolute_error', verbose=2)"
      ]
     },
     "execution_count": 37,
     "metadata": {},
     "output_type": "execute_result"
    }
   ],
   "source": [
    "reg.fit(X_train, y_train)"
   ]
  },
  {
   "cell_type": "code",
   "execution_count": 38,
   "metadata": {},
   "outputs": [
    {
     "data": {
      "text/plain": [
       "-0.8093175125953037"
      ]
     },
     "execution_count": 38,
     "metadata": {},
     "output_type": "execute_result"
    }
   ],
   "source": [
    "reg.best_score_"
   ]
  },
  {
   "cell_type": "code",
   "execution_count": 40,
   "metadata": {},
   "outputs": [],
   "source": [
    "pickle.dump(reg, open(\"MEPS_xgb_model_v2_cv\", \"wb\"))"
   ]
  },
  {
   "cell_type": "code",
   "execution_count": 41,
   "metadata": {},
   "outputs": [],
   "source": [
    "y_pred_train = reg.predict(X_train)\n",
    "y_pred_test = reg.predict(X_test)"
   ]
  },
  {
   "cell_type": "code",
   "execution_count": 44,
   "metadata": {},
   "outputs": [
    {
     "data": {
      "text/plain": [
       "1.3208384744997035"
      ]
     },
     "execution_count": 44,
     "metadata": {},
     "output_type": "execute_result"
    }
   ],
   "source": [
    "mean_squared_error(y_train, y_pred_train)"
   ]
  },
  {
   "cell_type": "code",
   "execution_count": 45,
   "metadata": {},
   "outputs": [
    {
     "data": {
      "text/plain": [
       "0.7882633320638476"
      ]
     },
     "execution_count": 45,
     "metadata": {},
     "output_type": "execute_result"
    }
   ],
   "source": [
    "mean_absolute_error(y_train, y_pred_train)"
   ]
  },
  {
   "cell_type": "code",
   "execution_count": 46,
   "metadata": {},
   "outputs": [
    {
     "data": {
      "text/plain": [
       "0.8646918351689498"
      ]
     },
     "execution_count": 46,
     "metadata": {},
     "output_type": "execute_result"
    }
   ],
   "source": [
    "r2_score(y_train, y_pred_train)"
   ]
  },
  {
   "cell_type": "code",
   "execution_count": 47,
   "metadata": {},
   "outputs": [
    {
     "data": {
      "text/plain": [
       "1.36800769829737"
      ]
     },
     "execution_count": 47,
     "metadata": {},
     "output_type": "execute_result"
    }
   ],
   "source": [
    "mean_squared_error(y_test, y_pred_test)"
   ]
  },
  {
   "cell_type": "code",
   "execution_count": 48,
   "metadata": {},
   "outputs": [
    {
     "data": {
      "text/plain": [
       "0.8040725287647182"
      ]
     },
     "execution_count": 48,
     "metadata": {},
     "output_type": "execute_result"
    }
   ],
   "source": [
    "mean_absolute_error(y_test, y_pred_test)"
   ]
  },
  {
   "cell_type": "code",
   "execution_count": 49,
   "metadata": {},
   "outputs": [
    {
     "data": {
      "text/plain": [
       "0.8568363062440674"
      ]
     },
     "execution_count": 49,
     "metadata": {},
     "output_type": "execute_result"
    }
   ],
   "source": [
    "r2_score(y_test, y_pred_test)"
   ]
  },
  {
   "cell_type": "code",
   "execution_count": null,
   "metadata": {},
   "outputs": [],
   "source": []
  }
 ],
 "metadata": {
  "kernelspec": {
   "display_name": "Python 3",
   "language": "python",
   "name": "python3"
  },
  "language_info": {
   "codemirror_mode": {
    "name": "ipython",
    "version": 3
   },
   "file_extension": ".py",
   "mimetype": "text/x-python",
   "name": "python",
   "nbconvert_exporter": "python",
   "pygments_lexer": "ipython3",
   "version": "3.8.5"
  }
 },
 "nbformat": 4,
 "nbformat_minor": 4
}
