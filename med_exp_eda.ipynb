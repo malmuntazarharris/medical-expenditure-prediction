{
 "cells": [
  {
   "cell_type": "code",
   "execution_count": 2,
   "metadata": {},
   "outputs": [],
   "source": [
    "import pandas as pd\n",
    "import matplotlib.pyplot as pl\n",
    "import seaborn as sns"
   ]
  },
  {
   "cell_type": "code",
   "execution_count": 8,
   "metadata": {},
   "outputs": [],
   "source": [
    "med_exp_data = pd.read_sas(\"C:/Users/Malcolm/Documents/MedicalExpenditure/data/h216.sas7bdat\", format = 'sas7bdat', encoding='iso-8859-1')"
   ]
  },
  {
   "cell_type": "code",
   "execution_count": 9,
   "metadata": {},
   "outputs": [
    {
     "data": {
      "text/html": [
       "<div>\n",
       "<style scoped>\n",
       "    .dataframe tbody tr th:only-of-type {\n",
       "        vertical-align: middle;\n",
       "    }\n",
       "\n",
       "    .dataframe tbody tr th {\n",
       "        vertical-align: top;\n",
       "    }\n",
       "\n",
       "    .dataframe thead th {\n",
       "        text-align: right;\n",
       "    }\n",
       "</style>\n",
       "<table border=\"1\" class=\"dataframe\">\n",
       "  <thead>\n",
       "    <tr style=\"text-align: right;\">\n",
       "      <th></th>\n",
       "      <th>DUID</th>\n",
       "      <th>PID</th>\n",
       "      <th>DUPERSID</th>\n",
       "      <th>PANEL</th>\n",
       "      <th>FAMID31</th>\n",
       "      <th>FAMID42</th>\n",
       "      <th>FAMID53</th>\n",
       "      <th>FAMID19</th>\n",
       "      <th>FAMIDYR</th>\n",
       "      <th>CPSFAMID</th>\n",
       "      <th>...</th>\n",
       "      <th>RXPTR19</th>\n",
       "      <th>RXOTH19</th>\n",
       "      <th>PERWT19F</th>\n",
       "      <th>FAMWT19F</th>\n",
       "      <th>FAMWT19C</th>\n",
       "      <th>SAQWT19F</th>\n",
       "      <th>VSAQW19F</th>\n",
       "      <th>DIABW19F</th>\n",
       "      <th>VARSTR</th>\n",
       "      <th>VARPSU</th>\n",
       "    </tr>\n",
       "  </thead>\n",
       "  <tbody>\n",
       "    <tr>\n",
       "      <th>0</th>\n",
       "      <td>2320002.0</td>\n",
       "      <td>101.0</td>\n",
       "      <td>2320002101</td>\n",
       "      <td>23.0</td>\n",
       "      <td>B</td>\n",
       "      <td>B</td>\n",
       "      <td>B</td>\n",
       "      <td>B</td>\n",
       "      <td>B</td>\n",
       "      <td>B</td>\n",
       "      <td>...</td>\n",
       "      <td>0.0</td>\n",
       "      <td>0.0</td>\n",
       "      <td>14602.115869</td>\n",
       "      <td>13727.593908</td>\n",
       "      <td>13727.593908</td>\n",
       "      <td>13985.516019</td>\n",
       "      <td>0.0</td>\n",
       "      <td>0.0</td>\n",
       "      <td>2019.0</td>\n",
       "      <td>1.0</td>\n",
       "    </tr>\n",
       "    <tr>\n",
       "      <th>1</th>\n",
       "      <td>2320002.0</td>\n",
       "      <td>102.0</td>\n",
       "      <td>2320002102</td>\n",
       "      <td>23.0</td>\n",
       "      <td>A</td>\n",
       "      <td>A</td>\n",
       "      <td>A</td>\n",
       "      <td>A</td>\n",
       "      <td>A</td>\n",
       "      <td>A</td>\n",
       "      <td>...</td>\n",
       "      <td>0.0</td>\n",
       "      <td>0.0</td>\n",
       "      <td>25324.216045</td>\n",
       "      <td>18586.327532</td>\n",
       "      <td>18586.327532</td>\n",
       "      <td>28061.590938</td>\n",
       "      <td>0.0</td>\n",
       "      <td>0.0</td>\n",
       "      <td>2019.0</td>\n",
       "      <td>1.0</td>\n",
       "    </tr>\n",
       "    <tr>\n",
       "      <th>2</th>\n",
       "      <td>2320002.0</td>\n",
       "      <td>103.0</td>\n",
       "      <td>2320002103</td>\n",
       "      <td>23.0</td>\n",
       "      <td>A</td>\n",
       "      <td>A</td>\n",
       "      <td>A</td>\n",
       "      <td>A</td>\n",
       "      <td>A</td>\n",
       "      <td>A</td>\n",
       "      <td>...</td>\n",
       "      <td>0.0</td>\n",
       "      <td>0.0</td>\n",
       "      <td>19455.742319</td>\n",
       "      <td>18586.327532</td>\n",
       "      <td>18586.327532</td>\n",
       "      <td>0.000000</td>\n",
       "      <td>0.0</td>\n",
       "      <td>0.0</td>\n",
       "      <td>2019.0</td>\n",
       "      <td>1.0</td>\n",
       "    </tr>\n",
       "    <tr>\n",
       "      <th>3</th>\n",
       "      <td>2320005.0</td>\n",
       "      <td>101.0</td>\n",
       "      <td>2320005101</td>\n",
       "      <td>23.0</td>\n",
       "      <td>A</td>\n",
       "      <td>A</td>\n",
       "      <td>A</td>\n",
       "      <td>A</td>\n",
       "      <td>A</td>\n",
       "      <td>A</td>\n",
       "      <td>...</td>\n",
       "      <td>0.0</td>\n",
       "      <td>0.0</td>\n",
       "      <td>5919.292270</td>\n",
       "      <td>6692.229133</td>\n",
       "      <td>6692.229133</td>\n",
       "      <td>0.000000</td>\n",
       "      <td>0.0</td>\n",
       "      <td>0.0</td>\n",
       "      <td>2079.0</td>\n",
       "      <td>1.0</td>\n",
       "    </tr>\n",
       "    <tr>\n",
       "      <th>4</th>\n",
       "      <td>2320005.0</td>\n",
       "      <td>102.0</td>\n",
       "      <td>2320005102</td>\n",
       "      <td>23.0</td>\n",
       "      <td>A</td>\n",
       "      <td>A</td>\n",
       "      <td>A</td>\n",
       "      <td>A</td>\n",
       "      <td>A</td>\n",
       "      <td>A</td>\n",
       "      <td>...</td>\n",
       "      <td>7.0</td>\n",
       "      <td>0.0</td>\n",
       "      <td>5356.640305</td>\n",
       "      <td>6692.229133</td>\n",
       "      <td>6692.229133</td>\n",
       "      <td>0.000000</td>\n",
       "      <td>0.0</td>\n",
       "      <td>0.0</td>\n",
       "      <td>2079.0</td>\n",
       "      <td>1.0</td>\n",
       "    </tr>\n",
       "  </tbody>\n",
       "</table>\n",
       "<p>5 rows × 1447 columns</p>\n",
       "</div>"
      ],
      "text/plain": [
       "        DUID    PID    DUPERSID  PANEL FAMID31 FAMID42 FAMID53 FAMID19  \\\n",
       "0  2320002.0  101.0  2320002101   23.0       B       B       B       B   \n",
       "1  2320002.0  102.0  2320002102   23.0       A       A       A       A   \n",
       "2  2320002.0  103.0  2320002103   23.0       A       A       A       A   \n",
       "3  2320005.0  101.0  2320005101   23.0       A       A       A       A   \n",
       "4  2320005.0  102.0  2320005102   23.0       A       A       A       A   \n",
       "\n",
       "  FAMIDYR CPSFAMID  ...  RXPTR19  RXOTH19      PERWT19F      FAMWT19F  \\\n",
       "0       B        B  ...      0.0      0.0  14602.115869  13727.593908   \n",
       "1       A        A  ...      0.0      0.0  25324.216045  18586.327532   \n",
       "2       A        A  ...      0.0      0.0  19455.742319  18586.327532   \n",
       "3       A        A  ...      0.0      0.0   5919.292270   6692.229133   \n",
       "4       A        A  ...      7.0      0.0   5356.640305   6692.229133   \n",
       "\n",
       "       FAMWT19C      SAQWT19F  VSAQW19F  DIABW19F  VARSTR  VARPSU  \n",
       "0  13727.593908  13985.516019       0.0       0.0  2019.0     1.0  \n",
       "1  18586.327532  28061.590938       0.0       0.0  2019.0     1.0  \n",
       "2  18586.327532      0.000000       0.0       0.0  2019.0     1.0  \n",
       "3   6692.229133      0.000000       0.0       0.0  2079.0     1.0  \n",
       "4   6692.229133      0.000000       0.0       0.0  2079.0     1.0  \n",
       "\n",
       "[5 rows x 1447 columns]"
      ]
     },
     "execution_count": 9,
     "metadata": {},
     "output_type": "execute_result"
    }
   ],
   "source": [
    "med_exp_data.head()"
   ]
  },
  {
   "cell_type": "code",
   "execution_count": 11,
   "metadata": {},
   "outputs": [
    {
     "data": {
      "text/plain": [
       "(28512, 1447)"
      ]
     },
     "execution_count": 11,
     "metadata": {},
     "output_type": "execute_result"
    }
   ],
   "source": [
    "med_exp_data.shape\n",
    "\n",
    "#TODO: include preprocessing.py in the markdown"
   ]
  },
  {
   "attachments": {
    "image.png": {
     "image/png": "[encoded data removed]"
    }
   },
   "cell_type": "markdown",
   "metadata": {},
   "source": [
    "Huge dataset with 1447 columns! We need to make sense of this. First off, we can see by examining the documentation that the column for our target data is TOTEXP19\n",
    "\n",
    "![image.png](attachment:image.png)\n",
    "\n",
    "We'll need to do a large amount of data cleaning. I'll do the majority of that in preprocessing.py file but here are the highlights"
   ]
  },
  {
   "cell_type": "markdown",
   "metadata": {},
   "source": [
    "The two immediate criterion that come to mind for the removal of variables are the following:\n",
    "\n",
    "    1. Remove any columns with an excess amount of n/a values\n",
    "    2. Remove any values are related to payments for healthcare except for the target column"
   ]
  },
  {
   "cell_type": "markdown",
   "metadata": {},
   "source": [
    "We should look through the documentation describing the variables (https://www.meps.ahrq.gov/mepsweb/data_stats/download_data_files_codebook.jsp?PUFId=H216) and select any values that is approprate to retain for our prediction. Ideally these variables should describe the following:\n",
    "\n",
    "- Demographics\n",
    "- Medical History\n",
    "- Number of health related events\n",
    "- Economic Status\n",
    "- Education status"
   ]
  },
  {
   "cell_type": "markdown",
   "metadata": {},
   "source": [
    "I've cleaned the file in preprocessing.py so let's pull that in for our EDA"
   ]
  },
  {
   "cell_type": "code",
   "execution_count": 12,
   "metadata": {},
   "outputs": [],
   "source": [
    "#TODO: pull in preprocessing.py csv"
   ]
  }
 ],
 "metadata": {
  "kernelspec": {
   "display_name": "Python 3",
   "language": "python",
   "name": "python3"
  },
  "language_info": {
   "codemirror_mode": {
    "name": "ipython",
    "version": 3
   },
   "file_extension": ".py",
   "mimetype": "text/x-python",
   "name": "python",
   "nbconvert_exporter": "python",
   "pygments_lexer": "ipython3",
   "version": "3.8.5"
  }
 },
 "nbformat": 4,
 "nbformat_minor": 4
}
